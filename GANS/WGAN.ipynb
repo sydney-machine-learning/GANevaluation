{
  "cells": [
    {
      "cell_type": "code",
      "execution_count": null,
      "metadata": {
        "id": "pVonm5fkLBuV"
      },
      "outputs": [],
      "source": [
        "import numpy as np\n",
        "from keras.datasets.mnist import load_data\n",
        "from keras import backend\n",
        "from keras.optimizers import RMSprop\n",
        "from keras.models import Sequential\n",
        "from keras.layers import Dense\n",
        "from keras.layers import Reshape\n",
        "from keras.layers import Flatten\n",
        "from keras.layers import Conv2D\n",
        "from keras.layers import Conv2DTranspose\n",
        "from keras.layers import LeakyReLU\n",
        "from keras.layers import BatchNormalization\n",
        "from keras.initializers import RandomNormal\n",
        "from keras.constraints import Constraint\n",
        "from matplotlib import pyplot"
      ]
    },
    {
      "cell_type": "code",
      "execution_count": null,
      "metadata": {
        "id": "EeaEYxYQaFjj"
      },
      "outputs": [],
      "source": [
        "# WGAN requires gradient clipping for the critic model to clip the weights in a certain range\n",
        "class ClipConstraint(Constraint):\n",
        "  # set clip value when initialized\n",
        "  def __init__(self, clip_value):\n",
        "    self.clip_value = clip_value\n",
        "  # clip model weights to hypercube\n",
        "  def __call__(self, weights):\n",
        "    return backend.clip(weights, -self.clip_value, self.clip_value)\n",
        "  # get the config\n",
        "  def get_config(self):\n",
        "    return {'clip_value': self.clip_value}"
      ]
    },
    {
      "cell_type": "code",
      "execution_count": null,
      "metadata": {
        "id": "RaNZrkw0dBlC"
      },
      "outputs": [],
      "source": [
        "# calculate wasserstein loss\n",
        "def wasserstein_loss(y_true, y_pred):\n",
        "  return backend.mean(y_true*y_pred)"
      ]
    },
    {
      "cell_type": "code",
      "execution_count": null,
      "metadata": {
        "id": "_jMoIvJ4hs0m"
      },
      "outputs": [],
      "source": [
        "# define standalone critic model\n",
        "def define_critic(in_shape=(28,28,1)):\n",
        "  # weight initialization\n",
        "  init = RandomNormal(stddev=0.02)\n",
        "  # weight constraint\n",
        "  const = ClipConstraint(0.01)\n",
        "  # define model\n",
        "  model = Sequential()\n",
        "  # downsample to 14x14\n",
        "  model.add(Conv2D(64, (4,4), strides=(2,2), padding='same', kernel_initializer=init, kernel_constraint=const, input_shape=in_shape))\n",
        "  model.add(BatchNormalization())\n",
        "  model.add(LeakyReLU(alpha=0.2))\n",
        "  # downsample to 7x7\n",
        "  model.add(Conv2D(64, (4,4), strides=(2,2), padding='same', kernel_initializer=init, kernel_constraint=const))\n",
        "  model.add(BatchNormalization())\n",
        "  model.add(LeakyReLU(alpha=0.2))\n",
        "  # scoring, linear activation\n",
        "  model.add(Flatten())\n",
        "  model.add(Dense(1))\n",
        "  # compile model\n",
        "  opt = RMSprop(lr=0.00005)\n",
        "  model.compile(loss=wasserstein_loss, optimizer=opt)\n",
        "  return model\n"
      ]
    },
    {
      "cell_type": "code",
      "execution_count": null,
      "metadata": {
        "id": "Y7HOqRc_mJVu"
      },
      "outputs": [],
      "source": [
        "# define stand-alone generator model\n",
        "def define_generator(latent_dim):\n",
        "  # weight initialization\n",
        "  init = RandomNormal(stddev=0.02)\n",
        "  # define model\n",
        "  model = Sequential()\n",
        "  # foundation for 7x7 image\n",
        "  n_nodes = 128*7*7\n",
        "  model.add(Dense(n_nodes, kernel_initializer=init, input_dim=latent_dim))\n",
        "  model.add(LeakyReLU(alpha=0.2))\n",
        "  model.add(Reshape((7,7,128)))\n",
        "  # upsample to 14x14\n",
        "  model.add(Conv2DTranspose(128, (4,4), strides=(2,2), padding='same', kernel_initializer=init))\n",
        "  model.add(BatchNormalization())\n",
        "  model.add(LeakyReLU(alpha=0.2))\n",
        "  # upsample to 28x28\n",
        "  model.add(Conv2DTranspose(128, (4,4), strides=(2,2), padding='same', kernel_initializer=init))\n",
        "  model.add(BatchNormalization())\n",
        "  model.add(LeakyReLU(alpha=0.2))\n",
        "  # output 28x28x1\n",
        "  model.add(Conv2D(1, (7,7), activation='tanh', padding='same', kernel_initializer=init))\n",
        "  return model\n"
      ]
    },
    {
      "cell_type": "code",
      "execution_count": null,
      "metadata": {
        "id": "YYKsNMxwo5bQ"
      },
      "outputs": [],
      "source": [
        "# define the combines generator and critic model, for updating the generator\n",
        "def define_gan(generator, critic):\n",
        "  # make weights in the critic not trainable\n",
        "  for layer in critic.layers:\n",
        "    if not isinstance(layer, BatchNormalization):\n",
        "      layer.trainable = False\n",
        "  # connect them\n",
        "  model = Sequential()\n",
        "  # add generator\n",
        "  model.add(generator)\n",
        "  # add the critic\n",
        "  model.add(critic)\n",
        "  # compile model\n",
        "  opt = RMSprop(lr=-.00005)\n",
        "  model.compile(loss=wasserstein_loss, optimizer=opt)\n",
        "  return model"
      ]
    },
    {
      "cell_type": "code",
      "execution_count": null,
      "metadata": {
        "id": "C_LWgkkAuhL1"
      },
      "outputs": [],
      "source": [
        "# load images\n",
        "def load_real_samples():\n",
        " # load dataset\n",
        " (trainX, trainy), (_, _) = load_data()\n",
        " # select all of the examples for a given class\n",
        " selected_ix = trainy == 9\n",
        " X = trainX[selected_ix]\n",
        " # expand to 3d, e.g. add channels\n",
        " X = np.expand_dims(X, axis=-1)\n",
        " # convert from ints to floats\n",
        " X = X.astype('float32')\n",
        " # scale from [0,255] to [-1,1]\n",
        " X = (X - 127.5) / 127.5\n",
        " return X"
      ]
    },
    {
      "cell_type": "code",
      "execution_count": null,
      "metadata": {
        "id": "SZ0FfibZyX7k"
      },
      "outputs": [],
      "source": [
        "# select real samples\n",
        "def generate_real_samples(dataset, n_samples):\n",
        " # choose random instances\n",
        " ix = np.random.randint(0, dataset.shape[0], n_samples)\n",
        " # select images\n",
        " X = dataset[ix]\n",
        " # generate class labels, -1 for 'real'\n",
        " y = -np.ones((n_samples, 1))\n",
        " return X, y"
      ]
    },
    {
      "cell_type": "code",
      "execution_count": null,
      "metadata": {
        "id": "knTDMKORyrvj"
      },
      "outputs": [],
      "source": [
        "# generate points in latent space as input for the generator\n",
        "def generate_latent_points(latent_dim, n_samples):\n",
        " # generate points in the latent space\n",
        " x_input = np.random.randn(latent_dim * n_samples)\n",
        " # reshape into a batch of inputs for the network\n",
        " x_input = x_input.reshape(n_samples, latent_dim)\n",
        " return x_input"
      ]
    },
    {
      "cell_type": "code",
      "execution_count": null,
      "metadata": {
        "id": "bkkcXMgzy6Cp"
      },
      "outputs": [],
      "source": [
        "# use the generator to generate n fake examples, with class labels\n",
        "def generate_fake_samples(generator, latent_dim, n_samples):\n",
        " # generate points in latent space\n",
        " x_input = generate_latent_points(latent_dim, n_samples)\n",
        " # predict outputs\n",
        " X = generator.predict(x_input)\n",
        " # create class labels with 1.0 for 'fake'\n",
        " y = np.ones((n_samples, 1))\n",
        " return X, y\n"
      ]
    },
    {
      "cell_type": "code",
      "execution_count": null,
      "metadata": {
        "id": "THJ0XWtVzJsL"
      },
      "outputs": [],
      "source": [
        "# generate samples and save as a plot and save the model\n",
        "def summarize_performances(step, g_model, latent_dim, n_samples=100):\n",
        "  # prepare fake samples\n",
        "  X, _ = generate_fake_samples(g_model, latent_dim, n_samples)\n",
        "  # scale from [-1,1] to [0,1]\n",
        "  X = (X + 1) / 2.0\n",
        "  # plot images\n",
        "  for i in range(10*10):\n",
        "    # define subplot\n",
        "    pyplot.subplot(10, 10, 1+i)\n",
        "    # turn off axis\n",
        "    pyplot.axis('off')\n",
        "    # plot raw pixel data\n",
        "    pyplot.imshow(X[i, :, :, 0], cmap='gray_r')\n",
        "  # save plot to file\n",
        "  filename1 = 'generated_plot_%04d.png' % (step+1)\n",
        "  pyplot.savefig(filename1)\n",
        "  pyplot.close()\n",
        "  # save the generator model\n",
        "  filename2 = 'model_%04d.h5' % (step+1)\n",
        "  g_model.save(filename2)\n",
        "  print('>Saved: %s and %s' % (filename1, filename2))\n",
        "  return X"
      ]
    },
    {
      "cell_type": "code",
      "execution_count": null,
      "metadata": {
        "id": "BBaT5yU2ITZe"
      },
      "outputs": [],
      "source": [
        "# create a line plot of loss for the gan and save to file\n",
        "def plot_history(d1_hist, d2_hist, g_hist):\n",
        " # plot history\n",
        " pyplot.plot(d1_hist, label='crit_real')\n",
        " pyplot.plot(d2_hist, label='crit_fake')\n",
        " pyplot.plot(g_hist, label='gen')\n",
        " pyplot.legend()\n",
        " pyplot.savefig('plot_line_plot_loss.png')\n",
        " pyplot.close()"
      ]
    },
    {
      "cell_type": "code",
      "execution_count": null,
      "metadata": {
        "id": "aElGWJ4lIXtG"
      },
      "outputs": [],
      "source": [
        "\n",
        "def train(g_model, c_model, gan_model, dataset, latent_dim, n_epochs=50, n_batch=128, n_critic=5):\n",
        "  # calculate the number of batches per training epoch\n",
        "  bat_per_epo = int(dataset.shape[0]/n_batch)\n",
        "  # calculate the number of training iterations\n",
        "  n_steps = bat_per_epo*n_epochs\n",
        "  # calculate the size of half batch of samples\n",
        "  half_batch = int(n_batch/2)\n",
        "  # lists for keeping track of loss\n",
        "  c1_hist, c2_hist, g_hist = list(), list(), list()\n",
        "  # manually enumerate epochs\n",
        "  for i in range(n_steps):\n",
        "    # update the critic more than the generator\n",
        "    c1_tmp, c2_tmp = list(), list()\n",
        "    for _ in range(n_critic):\n",
        "      # get randomly selected 'real samples'\n",
        "      X_real, y_real = generate_real_samples(dataset, half_batch)\n",
        "      # update critic model weights\n",
        "      c_loss1 = c_model.train_on_batch(X_real, y_real)\n",
        "      c1_tmp.append(c_loss1)\n",
        "      # generate fake examples\n",
        "      X_fake, y_fake = generate_fake_samples(g_model, latent_dim, half_batch)\n",
        "      # update critic model weights\n",
        "      c_loss2 = c_model.train_on_batch(X_fake, y_fake)\n",
        "      c2_tmp.append(c_loss2)\n",
        "    # store critic loss\n",
        "    c1_hist.append(np.mean(c1_tmp))\n",
        "    c2_hist.append(np.mean(c2_tmp))\n",
        "    # prepare points in latent space as input for the generator\n",
        "    X_gan = generate_latent_points(latent_dim, n_batch)\n",
        "    # create inverted labels for the fake samples\n",
        "    y_gan = -np.ones((n_batch, 1))\n",
        "    # update the generator via the critic's error\n",
        "    g_loss = gan_model.train_on_batch(X_gan, y_gan)\n",
        "    g_hist.append(g_loss)\n",
        "    # summarize loss on this batch\n",
        "    print('>%d, c1=%.3f, c2=%.3f g=%.3f' % (i+1, c1_hist[-1], c2_hist[-1], g_loss))\n",
        "    # evaluate the model performance every 'epoch'\n",
        "    if (i+1) % bat_per_epo == 0:\n",
        "      summarize_performances(i, g_model, latent_dim)\n",
        "  plot_history(c1_hist, c2_hist, g_hist)\n",
        "\n"
      ]
    },
    {
      "cell_type": "code",
      "execution_count": null,
      "metadata": {
        "id": "8rBWPK_kiNgd"
      },
      "outputs": [],
      "source": [
        "# size of latent space\n",
        "latent_dim = 50\n",
        "# create the critic\n",
        "critic = define_critic()\n",
        "# create the generator\n",
        "generator = define_generator(latent_dim)\n",
        "# create the gan\n",
        "gan_model = define_gan(generator, critic)\n",
        "# load image data\n",
        "dataset = load_real_samples()\n",
        "print(dataset.shape)\n",
        "# train model\n",
        "train(generator, critic, gan_model, dataset, latent_dim)"
      ]
    },
    {
      "cell_type": "code",
      "execution_count": null,
      "metadata": {
        "id": "V27ePVUjz30K",
        "colab": {
          "base_uri": "https://localhost:8080/",
          "height": 482
        },
        "outputId": "fedac792-9bf6-4064-cf40-8b0b7383ec1a"
      },
      "outputs": [
        {
          "output_type": "stream",
          "name": "stdout",
          "text": [
            "38/38 [==============================] - 0s 9ms/step\n",
            "(1200, 28, 28, 1)\n"
          ]
        },
        {
          "output_type": "execute_result",
          "data": {
            "text/plain": [
              "<matplotlib.image.AxesImage at 0x7fb1c0961150>"
            ]
          },
          "metadata": {},
          "execution_count": 15
        },
        {
          "output_type": "display_data",
          "data": {
            "text/plain": [
              "<Figure size 640x480 with 1 Axes>"
            ],
            "image/png": "[encoded data removed]"
          },
          "metadata": {}
        }
      ],
      "source": [
        "X, _ = generate_fake_samples(generator, latent_dim, 1200)\n",
        "print(X.shape)\n",
        "pyplot.imshow(X[0])"
      ]
    },
    {
      "cell_type": "code",
      "execution_count": null,
      "metadata": {
        "id": "KH5WwmpbiYDI",
        "colab": {
          "base_uri": "https://localhost:8080/"
        },
        "outputId": "d9a34275-44b3-4501-9936-6259db265791"
      },
      "outputs": [
        {
          "output_type": "execute_result",
          "data": {
            "text/plain": [
              "numpy.ndarray"
            ]
          },
          "metadata": {},
          "execution_count": 16
        }
      ],
      "source": [
        "type(X)"
      ]
    },
    {
      "cell_type": "code",
      "execution_count": null,
      "metadata": {
        "id": "8TXZC8mstmta"
      },
      "outputs": [],
      "source": [
        "np.savez(\"label_9_wgan.npz\", data=X)"
      ]
    },
    {
      "cell_type": "code",
      "execution_count": null,
      "metadata": {
        "id": "E0HVFzr2tzd0"
      },
      "outputs": [],
      "source": [
        "\n"
      ]
    },
    {
      "cell_type": "code",
      "source": [],
      "metadata": {
        "id": "DESAxP69QScb"
      },
      "execution_count": null,
      "outputs": []
    }
  ],
  "metadata": {
    "accelerator": "GPU",
    "colab": {
      "gpuType": "T4",
      "provenance": []
    },
    "kernelspec": {
      "display_name": "Python 3",
      "name": "python3"
    },
    "language_info": {
      "name": "python"
    }
  },
  "nbformat": 4,
  "nbformat_minor": 0
}